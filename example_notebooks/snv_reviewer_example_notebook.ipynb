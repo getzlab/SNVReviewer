{
 "cells": [
  {
   "cell_type": "markdown",
   "id": "c17c111e-7167-48b4-ad93-2fd3b6c31913",
   "metadata": {},
   "source": [
    "# Custom_Reviewer_Example"
   ]
  },
  {
   "cell_type": "code",
   "execution_count": 1,
   "id": "dde850dc-9512-4f6d-8f7b-11ded41c4efa",
   "metadata": {},
   "outputs": [],
   "source": [
    "%load_ext autoreload\n",
    "%autoreload 2"
   ]
  },
  {
   "cell_type": "code",
   "execution_count": null,
   "id": "c521c0eb-e9aa-42d1-bf2a-b4d24066f06b",
   "metadata": {},
   "outputs": [],
   "source": [
    "import pandas as pd\n",
    "import numpy as np\n",
    "import os"
   ]
  },
  {
   "cell_type": "markdown",
   "id": "88c5ade7-e550-4e0a-b38b-1b57468acf4b",
   "metadata": {},
   "source": [
    "## Set up Data"
   ]
  },
  {
   "cell_type": "code",
   "execution_count": null,
   "id": "dfee8701-1f7c-4520-a14a-072535d2f2e1",
   "metadata": {},
   "outputs": [],
   "source": [
    "df = pd.read_csv('load_example_data.tsv', sep='\\t')"
   ]
  },
  {
   "cell_type": "markdown",
   "id": "922dae52-0452-49b4-80ca-647f49c18bd7",
   "metadata": {},
   "source": [
    "## Run Reviewer"
   ]
  },
  {
   "cell_type": "code",
   "execution_count": null,
   "id": "6b075440-af1b-4ee7-85f1-0d6a6457f85d",
   "metadata": {},
   "outputs": [],
   "source": [
    "from MyCustomReviewers.Reviewers.MyCustomReviewer import MyCustomReviewer"
   ]
  },
  {
   "cell_type": "code",
   "execution_count": null,
   "id": "08a653af-480b-4be8-9676-9ec073912bb6",
   "metadata": {},
   "outputs": [],
   "source": [
    "data_path = '/path/to/save/annot/'"
   ]
  },
  {
   "cell_type": "code",
   "execution_count": null,
   "id": "587d2bf3-87fe-4502-bc70-5669936113b1",
   "metadata": {},
   "outputs": [],
   "source": [
    "reviewer = MyCustomReviewer()\n",
    "reviewer.set_review_data(\n",
    "    data_path = data_path, \n",
    "    description='A description', \n",
    "    df=df,\n",
    "    index=df.index,\n",
    ")\n",
    "reviewer.set_review_app()\n",
    "reviewer.set_default_review_data_annotations_configuration()\n",
    "reviewer.set_default_autofill()"
   ]
  },
  {
   "cell_type": "markdown",
   "id": "a45f74c2-549e-4c04-b85d-7d7206aab751",
   "metadata": {},
   "source": [
    "## Advanced Usage\n",
    "\n",
    "See `MyCustomReviewers/AppComponents` for pre-built components and their customizable parameters, and additional utility functions. \n",
    "\n",
    "For customizing annotations, adding new components, and other features, see [Intro_to_AnnoMate_Reviewers.ipynb](https://github.com/getzlab/JupyterReviewer/blob/master/example_notebooks/Intro_to_AnnoMate_Reviewers.ipynb).\n",
    "\n",
    "For creating your own prebuilt reviewer, see [Developer_AnnoMate_Tutorial.ipynb](https://github.com/getzlab/JupyterReviewer/blob/master/example_notebooks/Developer_AnnoMate_Tutorial.ipynb).\n"
   ]
  },
  {
   "cell_type": "code",
   "execution_count": null,
   "id": "b0351579-2acd-4fc4-87a5-1f2fd5d0b504",
   "metadata": {},
   "outputs": [],
   "source": []
  }
 ],
 "metadata": {
  "kernelspec": {
   "display_name": "Python 3",
   "language": "python",
   "name": "python3"
  },
  "language_info": {
   "codemirror_mode": {
    "name": "ipython",
    "version": 3
   },
   "file_extension": ".py",
   "mimetype": "text/x-python",
   "name": "python",
   "nbconvert_exporter": "python",
   "pygments_lexer": "ipython3",
   "version": "3.7.0"
  }
 },
 "nbformat": 4,
 "nbformat_minor": 5
}
